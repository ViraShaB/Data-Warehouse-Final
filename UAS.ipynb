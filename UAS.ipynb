{
 "cells": [
  {
   "cell_type": "code",
   "execution_count": 66,
   "metadata": {},
   "outputs": [
    {
     "name": "stdout",
     "output_type": "stream",
     "text": [
      "Requirement already satisfied: dabl in c:\\users\\vira shania b\\anaconda3\\lib\\site-packages (0.1.8)\n",
      "Requirement already satisfied: scipy in c:\\users\\vira shania b\\anaconda3\\lib\\site-packages (from dabl) (1.4.1)\n",
      "Requirement already satisfied: numpy in c:\\users\\vira shania b\\anaconda3\\lib\\site-packages (from dabl) (1.18.1)\n",
      "Requirement already satisfied: seaborn in c:\\users\\vira shania b\\anaconda3\\lib\\site-packages (from dabl) (0.10.0)\n",
      "Requirement already satisfied: scikit-learn in c:\\users\\vira shania b\\anaconda3\\lib\\site-packages (from dabl) (0.22.1)\n",
      "Requirement already satisfied: pandas in c:\\users\\vira shania b\\anaconda3\\lib\\site-packages (from dabl) (1.0.1)\n",
      "Requirement already satisfied: matplotlib in c:\\users\\vira shania b\\anaconda3\\lib\\site-packages (from dabl) (3.1.3)\n",
      "Requirement already satisfied: joblib>=0.11 in c:\\users\\vira shania b\\anaconda3\\lib\\site-packages (from scikit-learn->dabl) (0.14.1)\n",
      "Requirement already satisfied: pytz>=2017.2 in c:\\users\\vira shania b\\anaconda3\\lib\\site-packages (from pandas->dabl) (2019.3)\n",
      "Requirement already satisfied: python-dateutil>=2.6.1 in c:\\users\\vira shania b\\anaconda3\\lib\\site-packages (from pandas->dabl) (2.8.1)\n",
      "Requirement already satisfied: pyparsing!=2.0.4,!=2.1.2,!=2.1.6,>=2.0.1 in c:\\users\\vira shania b\\anaconda3\\lib\\site-packages (from matplotlib->dabl) (2.4.6)\n",
      "Requirement already satisfied: kiwisolver>=1.0.1 in c:\\users\\vira shania b\\anaconda3\\lib\\site-packages (from matplotlib->dabl) (1.1.0)\n",
      "Requirement already satisfied: cycler>=0.10 in c:\\users\\vira shania b\\anaconda3\\lib\\site-packages (from matplotlib->dabl) (0.10.0)\n",
      "Requirement already satisfied: six>=1.5 in c:\\users\\vira shania b\\anaconda3\\lib\\site-packages (from python-dateutil>=2.6.1->pandas->dabl) (1.14.0)\n",
      "Requirement already satisfied: setuptools in c:\\users\\vira shania b\\anaconda3\\lib\\site-packages (from kiwisolver>=1.0.1->matplotlib->dabl) (45.2.0.post20200210)\n"
     ]
    }
   ],
   "source": [
    "!pip install dabl"
   ]
  },
  {
   "cell_type": "code",
   "execution_count": 67,
   "metadata": {},
   "outputs": [],
   "source": [
    "# for some basic operations\n",
    "import numpy as np\n",
    "import pandas as pd"
   ]
  },
  {
   "cell_type": "code",
   "execution_count": 68,
   "metadata": {},
   "outputs": [],
   "source": [
    "#importing the dataset\n",
    "dataset = pd.read_csv('dataset.csv')"
   ]
  },
  {
   "cell_type": "code",
   "execution_count": 69,
   "metadata": {},
   "outputs": [
    {
     "data": {
      "text/html": [
       "<div>\n",
       "<style scoped>\n",
       "    .dataframe tbody tr th:only-of-type {\n",
       "        vertical-align: middle;\n",
       "    }\n",
       "\n",
       "    .dataframe tbody tr th {\n",
       "        vertical-align: top;\n",
       "    }\n",
       "\n",
       "    .dataframe thead th {\n",
       "        text-align: right;\n",
       "    }\n",
       "</style>\n",
       "<table border=\"1\" class=\"dataframe\">\n",
       "  <thead>\n",
       "    <tr style=\"text-align: right;\">\n",
       "      <th></th>\n",
       "      <th>no</th>\n",
       "      <th>nama</th>\n",
       "      <th>jenis_kelamin</th>\n",
       "      <th>tempat_lahir</th>\n",
       "      <th>tanggal_lahir</th>\n",
       "      <th>orang_tua</th>\n",
       "      <th>tahun_masuk</th>\n",
       "    </tr>\n",
       "  </thead>\n",
       "  <tbody>\n",
       "    <tr>\n",
       "      <th>0</th>\n",
       "      <td>1</td>\n",
       "      <td>Anton Mustakmal</td>\n",
       "      <td>Perempuan</td>\n",
       "      <td>Waykalam</td>\n",
       "      <td>09/03/1996</td>\n",
       "      <td>Solihin</td>\n",
       "      <td>2004</td>\n",
       "    </tr>\n",
       "    <tr>\n",
       "      <th>1</th>\n",
       "      <td>2</td>\n",
       "      <td>Anisa Ruhadini</td>\n",
       "      <td>Perempuan</td>\n",
       "      <td>Cilegon</td>\n",
       "      <td>12/10/1996</td>\n",
       "      <td>Mustaqim A</td>\n",
       "      <td>2004</td>\n",
       "    </tr>\n",
       "    <tr>\n",
       "      <th>2</th>\n",
       "      <td>3</td>\n",
       "      <td>Siti Khoeriyah</td>\n",
       "      <td>Perempuan</td>\n",
       "      <td>Cilegon</td>\n",
       "      <td>10/12/1997</td>\n",
       "      <td>Mad Salim</td>\n",
       "      <td>2005</td>\n",
       "    </tr>\n",
       "    <tr>\n",
       "      <th>3</th>\n",
       "      <td>4</td>\n",
       "      <td>Sri Wulandari</td>\n",
       "      <td>Perempuan</td>\n",
       "      <td>Kalianda</td>\n",
       "      <td>17/02/1997</td>\n",
       "      <td>Sonhaji</td>\n",
       "      <td>2005</td>\n",
       "    </tr>\n",
       "    <tr>\n",
       "      <th>4</th>\n",
       "      <td>5</td>\n",
       "      <td>Sifaurrohmh</td>\n",
       "      <td>Perempuan</td>\n",
       "      <td>Kampung Baru</td>\n",
       "      <td>01/01/1970</td>\n",
       "      <td>Muhaimin</td>\n",
       "      <td>2005</td>\n",
       "    </tr>\n",
       "    <tr>\n",
       "      <th>...</th>\n",
       "      <td>...</td>\n",
       "      <td>...</td>\n",
       "      <td>...</td>\n",
       "      <td>...</td>\n",
       "      <td>...</td>\n",
       "      <td>...</td>\n",
       "      <td>...</td>\n",
       "    </tr>\n",
       "    <tr>\n",
       "      <th>62</th>\n",
       "      <td>63</td>\n",
       "      <td>M. Faris Idris</td>\n",
       "      <td>Laki-laki</td>\n",
       "      <td>Purwakarta</td>\n",
       "      <td>23/11/1998</td>\n",
       "      <td>Sumardi</td>\n",
       "      <td>2011</td>\n",
       "    </tr>\n",
       "    <tr>\n",
       "      <th>63</th>\n",
       "      <td>64</td>\n",
       "      <td>Fahriel W.H</td>\n",
       "      <td>Laki-laki</td>\n",
       "      <td>Bekasi</td>\n",
       "      <td>04/09/1996</td>\n",
       "      <td>Yudha</td>\n",
       "      <td>2011</td>\n",
       "    </tr>\n",
       "    <tr>\n",
       "      <th>64</th>\n",
       "      <td>65</td>\n",
       "      <td>Endah Kusmawati P</td>\n",
       "      <td>Perempuan</td>\n",
       "      <td>Sukabumi</td>\n",
       "      <td>25/12/1998</td>\n",
       "      <td>Suhaedi</td>\n",
       "      <td>2011</td>\n",
       "    </tr>\n",
       "    <tr>\n",
       "      <th>65</th>\n",
       "      <td>66</td>\n",
       "      <td>Fadia Amanda S</td>\n",
       "      <td>Perempuan</td>\n",
       "      <td>Sukabumi</td>\n",
       "      <td>20/09/1997</td>\n",
       "      <td>Heru</td>\n",
       "      <td>2011</td>\n",
       "    </tr>\n",
       "    <tr>\n",
       "      <th>66</th>\n",
       "      <td>67</td>\n",
       "      <td>Fima R. Ista</td>\n",
       "      <td>Perempuan</td>\n",
       "      <td>Bogor</td>\n",
       "      <td>24/01/1999</td>\n",
       "      <td>Tatang</td>\n",
       "      <td>2011</td>\n",
       "    </tr>\n",
       "  </tbody>\n",
       "</table>\n",
       "<p>67 rows × 7 columns</p>\n",
       "</div>"
      ],
      "text/plain": [
       "    no               nama jenis_kelamin  tempat_lahir tanggal_lahir  \\\n",
       "0    1    Anton Mustakmal     Perempuan      Waykalam    09/03/1996   \n",
       "1    2     Anisa Ruhadini     Perempuan       Cilegon    12/10/1996   \n",
       "2    3     Siti Khoeriyah     Perempuan       Cilegon    10/12/1997   \n",
       "3    4      Sri Wulandari     Perempuan      Kalianda    17/02/1997   \n",
       "4    5        Sifaurrohmh     Perempuan  Kampung Baru    01/01/1970   \n",
       "..  ..                ...           ...           ...           ...   \n",
       "62  63     M. Faris Idris     Laki-laki    Purwakarta    23/11/1998   \n",
       "63  64        Fahriel W.H     Laki-laki        Bekasi    04/09/1996   \n",
       "64  65  Endah Kusmawati P     Perempuan      Sukabumi    25/12/1998   \n",
       "65  66     Fadia Amanda S     Perempuan      Sukabumi    20/09/1997   \n",
       "66  67       Fima R. Ista     Perempuan         Bogor    24/01/1999   \n",
       "\n",
       "     orang_tua  tahun_masuk  \n",
       "0      Solihin         2004  \n",
       "1   Mustaqim A         2004  \n",
       "2    Mad Salim         2005  \n",
       "3      Sonhaji         2005  \n",
       "4     Muhaimin         2005  \n",
       "..         ...          ...  \n",
       "62     Sumardi         2011  \n",
       "63       Yudha         2011  \n",
       "64     Suhaedi         2011  \n",
       "65        Heru         2011  \n",
       "66      Tatang         2011  \n",
       "\n",
       "[67 rows x 7 columns]"
      ]
     },
     "execution_count": 69,
     "metadata": {},
     "output_type": "execute_result"
    }
   ],
   "source": [
    "#displaying the dataset\n",
    "dataset.head(67)"
   ]
  },
  {
   "cell_type": "code",
   "execution_count": 70,
   "metadata": {},
   "outputs": [
    {
     "data": {
      "text/plain": [
       "nama             67\n",
       "jenis_kelamin     2\n",
       "tempat_lahir     38\n",
       "tanggal_lahir    65\n",
       "orang_tua        62\n",
       "dtype: int64"
      ]
     },
     "execution_count": 70,
     "metadata": {},
     "output_type": "execute_result"
    }
   ],
   "source": [
    "# lets check the no. of unique items present in the categorical column\n",
    "\n",
    "dataset.select_dtypes('object').nunique()"
   ]
  },
  {
   "cell_type": "code",
   "execution_count": 71,
   "metadata": {},
   "outputs": [
    {
     "data": {
      "text/plain": [
       "no                int64\n",
       "nama             object\n",
       "jenis_kelamin    object\n",
       "tempat_lahir     object\n",
       "tanggal_lahir    object\n",
       "orang_tua        object\n",
       "tahun_masuk       int64\n",
       "dtype: object"
      ]
     },
     "execution_count": 71,
     "metadata": {},
     "output_type": "execute_result"
    }
   ],
   "source": [
    "# print all column name and it's data type\n",
    "dataset.dtypes"
   ]
  },
  {
   "cell_type": "code",
   "execution_count": 72,
   "metadata": {},
   "outputs": [
    {
     "data": {
      "text/html": [
       "<div>\n",
       "<style scoped>\n",
       "    .dataframe tbody tr th:only-of-type {\n",
       "        vertical-align: middle;\n",
       "    }\n",
       "\n",
       "    .dataframe tbody tr th {\n",
       "        vertical-align: top;\n",
       "    }\n",
       "\n",
       "    .dataframe thead th {\n",
       "        text-align: right;\n",
       "    }\n",
       "</style>\n",
       "<table border=\"1\" class=\"dataframe\">\n",
       "  <thead>\n",
       "    <tr style=\"text-align: right;\">\n",
       "      <th></th>\n",
       "      <th>jenis_kelamin</th>\n",
       "      <th>count</th>\n",
       "    </tr>\n",
       "  </thead>\n",
       "  <tbody>\n",
       "    <tr>\n",
       "      <th>0</th>\n",
       "      <td>Laki-laki</td>\n",
       "      <td>35</td>\n",
       "    </tr>\n",
       "    <tr>\n",
       "      <th>1</th>\n",
       "      <td>Perempuan</td>\n",
       "      <td>32</td>\n",
       "    </tr>\n",
       "  </tbody>\n",
       "</table>\n",
       "</div>"
      ],
      "text/plain": [
       "  jenis_kelamin  count\n",
       "0     Laki-laki     35\n",
       "1     Perempuan     32"
      ]
     },
     "execution_count": 72,
     "metadata": {},
     "output_type": "execute_result"
    }
   ],
   "source": [
    "# report 1\n",
    "apply_jenis_kelamin = dataset['jenis_kelamin'].value_counts().reset_index()\n",
    "apply_jenis_kelamin.columns = ['jenis_kelamin', 'count']\n",
    "apply_jenis_kelamin"
   ]
  },
  {
   "cell_type": "code",
   "execution_count": 73,
   "metadata": {},
   "outputs": [
    {
     "data": {
      "image/png": "[encoded data removed]",
      "text/plain": [
       "<Figure size 864x576 with 1 Axes>"
      ]
     },
     "metadata": {
      "needs_background": "light"
     },
     "output_type": "display_data"
    }
   ],
   "source": [
    "# visualization of report 1\n",
    "import matplotlib.pyplot as plt\n",
    "\n",
    "plt.figure(figsize=(12,8))\n",
    "plt.bar(apply_jenis_kelamin['jenis_kelamin'], apply_jenis_kelamin['count'])\n",
    "plt.title('jenis kelamin santri')\n",
    "plt.xlabel('jenis_kelamin')\n",
    "plt.ylabel('Count')\n",
    "plt.savefig('report_1.png')\n",
    "plt.show()"
   ]
  },
  {
   "cell_type": "code",
   "execution_count": 74,
   "metadata": {},
   "outputs": [
    {
     "data": {
      "text/html": [
       "<div>\n",
       "<style scoped>\n",
       "    .dataframe tbody tr th:only-of-type {\n",
       "        vertical-align: middle;\n",
       "    }\n",
       "\n",
       "    .dataframe tbody tr th {\n",
       "        vertical-align: top;\n",
       "    }\n",
       "\n",
       "    .dataframe thead th {\n",
       "        text-align: right;\n",
       "    }\n",
       "</style>\n",
       "<table border=\"1\" class=\"dataframe\">\n",
       "  <thead>\n",
       "    <tr style=\"text-align: right;\">\n",
       "      <th></th>\n",
       "      <th>tahun_masuk_code</th>\n",
       "      <th>count</th>\n",
       "      <th>tahun_masuk</th>\n",
       "    </tr>\n",
       "  </thead>\n",
       "  <tbody>\n",
       "    <tr>\n",
       "      <th>0</th>\n",
       "      <td>2004</td>\n",
       "      <td>2</td>\n",
       "      <td>&gt; 2011 years</td>\n",
       "    </tr>\n",
       "    <tr>\n",
       "      <th>1</th>\n",
       "      <td>2005</td>\n",
       "      <td>3</td>\n",
       "      <td>&gt; 2011 years</td>\n",
       "    </tr>\n",
       "    <tr>\n",
       "      <th>2</th>\n",
       "      <td>2006</td>\n",
       "      <td>5</td>\n",
       "      <td>&gt; 2011 years</td>\n",
       "    </tr>\n",
       "    <tr>\n",
       "      <th>3</th>\n",
       "      <td>2007</td>\n",
       "      <td>9</td>\n",
       "      <td>&gt; 2011 years</td>\n",
       "    </tr>\n",
       "    <tr>\n",
       "      <th>4</th>\n",
       "      <td>2008</td>\n",
       "      <td>8</td>\n",
       "      <td>&gt; 2011 years</td>\n",
       "    </tr>\n",
       "    <tr>\n",
       "      <th>5</th>\n",
       "      <td>2009</td>\n",
       "      <td>9</td>\n",
       "      <td>&gt; 2011 years</td>\n",
       "    </tr>\n",
       "    <tr>\n",
       "      <th>6</th>\n",
       "      <td>2010</td>\n",
       "      <td>11</td>\n",
       "      <td>&gt; 2011 years</td>\n",
       "    </tr>\n",
       "    <tr>\n",
       "      <th>7</th>\n",
       "      <td>2011</td>\n",
       "      <td>20</td>\n",
       "      <td>&gt; 2011 years</td>\n",
       "    </tr>\n",
       "  </tbody>\n",
       "</table>\n",
       "</div>"
      ],
      "text/plain": [
       "   tahun_masuk_code  count   tahun_masuk\n",
       "0              2004      2  > 2011 years\n",
       "1              2005      3  > 2011 years\n",
       "2              2006      5  > 2011 years\n",
       "3              2007      9  > 2011 years\n",
       "4              2008      8  > 2011 years\n",
       "5              2009      9  > 2011 years\n",
       "6              2010     11  > 2011 years\n",
       "7              2011     20  > 2011 years"
      ]
     },
     "execution_count": 74,
     "metadata": {},
     "output_type": "execute_result"
    }
   ],
   "source": [
    "# report 2\n",
    "tahun_masuk = dataset['tahun_masuk'].value_counts().reset_index()\n",
    "tahun_masuk.columns = ['tahun_masuk_code', 'count']\n",
    "fn = lambda x: '< 2004 years' if x == 1 else ('2004 - 2005 years' if x == 2 else ('2004 - 2005 years' if x == 3 else '> 2011 years'))\n",
    "tahun_masuk['tahun_masuk'] = tahun_masuk['tahun_masuk_code'].apply(fn)\n",
    "tahun_masuk = tahun_masuk.sort_values('tahun_masuk_code').reset_index().drop('index', 1)\n",
    "tahun_masuk"
   ]
  },
  {
   "cell_type": "code",
   "execution_count": 75,
   "metadata": {},
   "outputs": [
    {
     "data": {
      "image/png": "[encoded data removed]",
      "text/plain": [
       "<Figure size 720x720 with 1 Axes>"
      ]
     },
     "metadata": {
      "needs_background": "light"
     },
     "output_type": "display_data"
    }
   ],
   "source": [
    "# report 2 visualization\n",
    "plt.figure(figsize=(10,10))\n",
    "plt.barh(tahun_masuk['tahun_masuk'], tahun_masuk['count'])\n",
    "plt.title(\"Perkembangan Setiap Tahun\")\n",
    "plt.xlabel('Count')\n",
    "plt.ylabel('tahun_masuk')\n",
    "plt.savefig('report_2.png')\n",
    "plt.show()"
   ]
  },
  {
   "cell_type": "code",
   "execution_count": 76,
   "metadata": {},
   "outputs": [
    {
     "data": {
      "text/html": [
       "<div>\n",
       "<style scoped>\n",
       "    .dataframe tbody tr th:only-of-type {\n",
       "        vertical-align: middle;\n",
       "    }\n",
       "\n",
       "    .dataframe tbody tr th {\n",
       "        vertical-align: top;\n",
       "    }\n",
       "\n",
       "    .dataframe thead th {\n",
       "        text-align: right;\n",
       "    }\n",
       "</style>\n",
       "<table border=\"1\" class=\"dataframe\">\n",
       "  <thead>\n",
       "    <tr style=\"text-align: right;\">\n",
       "      <th></th>\n",
       "      <th>no</th>\n",
       "      <th>count</th>\n",
       "    </tr>\n",
       "  </thead>\n",
       "  <tbody>\n",
       "    <tr>\n",
       "      <th>0</th>\n",
       "      <td>67</td>\n",
       "      <td>1</td>\n",
       "    </tr>\n",
       "    <tr>\n",
       "      <th>1</th>\n",
       "      <td>17</td>\n",
       "      <td>1</td>\n",
       "    </tr>\n",
       "    <tr>\n",
       "      <th>2</th>\n",
       "      <td>31</td>\n",
       "      <td>1</td>\n",
       "    </tr>\n",
       "    <tr>\n",
       "      <th>3</th>\n",
       "      <td>30</td>\n",
       "      <td>1</td>\n",
       "    </tr>\n",
       "    <tr>\n",
       "      <th>4</th>\n",
       "      <td>29</td>\n",
       "      <td>1</td>\n",
       "    </tr>\n",
       "    <tr>\n",
       "      <th>...</th>\n",
       "      <td>...</td>\n",
       "      <td>...</td>\n",
       "    </tr>\n",
       "    <tr>\n",
       "      <th>62</th>\n",
       "      <td>39</td>\n",
       "      <td>1</td>\n",
       "    </tr>\n",
       "    <tr>\n",
       "      <th>63</th>\n",
       "      <td>38</td>\n",
       "      <td>1</td>\n",
       "    </tr>\n",
       "    <tr>\n",
       "      <th>64</th>\n",
       "      <td>37</td>\n",
       "      <td>1</td>\n",
       "    </tr>\n",
       "    <tr>\n",
       "      <th>65</th>\n",
       "      <td>36</td>\n",
       "      <td>1</td>\n",
       "    </tr>\n",
       "    <tr>\n",
       "      <th>66</th>\n",
       "      <td>1</td>\n",
       "      <td>1</td>\n",
       "    </tr>\n",
       "  </tbody>\n",
       "</table>\n",
       "<p>67 rows × 2 columns</p>\n",
       "</div>"
      ],
      "text/plain": [
       "    no  count\n",
       "0   67      1\n",
       "1   17      1\n",
       "2   31      1\n",
       "3   30      1\n",
       "4   29      1\n",
       "..  ..    ...\n",
       "62  39      1\n",
       "63  38      1\n",
       "64  37      1\n",
       "65  36      1\n",
       "66   1      1\n",
       "\n",
       "[67 rows x 2 columns]"
      ]
     },
     "execution_count": 76,
     "metadata": {},
     "output_type": "execute_result"
    }
   ],
   "source": [
    "# report 3\n",
    "santri_no = dataset['no'].value_counts().reset_index()\n",
    "santri_no.columns = ['no', 'count']\n",
    "santri_no"
   ]
  },
  {
   "cell_type": "code",
   "execution_count": 77,
   "metadata": {},
   "outputs": [
    {
     "data": {
      "image/png": "[encoded data removed]",
      "text/plain": [
       "<Figure size 864x576 with 1 Axes>"
      ]
     },
     "metadata": {
      "needs_background": "light"
     },
     "output_type": "display_data"
    }
   ],
   "source": [
    "# report 3 visualization\n",
    "plt.figure(figsize=(12,8))\n",
    "plt.barh(santri_no['no'], santri_no['count'])\n",
    "plt.title(\"Student's\")\n",
    "plt.xlabel('Count')\n",
    "plt.ylabel('no')\n",
    "plt.savefig('')\n",
    "plt.show()"
   ]
  },
  {
   "cell_type": "code",
   "execution_count": 62,
   "metadata": {},
   "outputs": [],
   "source": [
    "dataset.sort_values(by=['tahun_masuk'], inplace=True, ascending=False)"
   ]
  },
  {
   "cell_type": "code",
   "execution_count": 64,
   "metadata": {},
   "outputs": [
    {
     "data": {
      "text/html": [
       "<div>\n",
       "<style scoped>\n",
       "    .dataframe tbody tr th:only-of-type {\n",
       "        vertical-align: middle;\n",
       "    }\n",
       "\n",
       "    .dataframe tbody tr th {\n",
       "        vertical-align: top;\n",
       "    }\n",
       "\n",
       "    .dataframe thead th {\n",
       "        text-align: right;\n",
       "    }\n",
       "</style>\n",
       "<table border=\"1\" class=\"dataframe\">\n",
       "  <thead>\n",
       "    <tr style=\"text-align: right;\">\n",
       "      <th></th>\n",
       "      <th>no</th>\n",
       "      <th>nama</th>\n",
       "      <th>jenis_kelamin</th>\n",
       "      <th>tempat_lahir</th>\n",
       "      <th>tanggal_lahir</th>\n",
       "      <th>orang_tua</th>\n",
       "      <th>tahun_masuk</th>\n",
       "    </tr>\n",
       "  </thead>\n",
       "  <tbody>\n",
       "    <tr>\n",
       "      <th>66</th>\n",
       "      <td>67</td>\n",
       "      <td>Fima R. Ista</td>\n",
       "      <td>Perempuan</td>\n",
       "      <td>Bogor</td>\n",
       "      <td>24/01/1999</td>\n",
       "      <td>Tatang</td>\n",
       "      <td>2011</td>\n",
       "    </tr>\n",
       "    <tr>\n",
       "      <th>56</th>\n",
       "      <td>57</td>\n",
       "      <td>M. Ridho</td>\n",
       "      <td>Laki-laki</td>\n",
       "      <td>Majalaya</td>\n",
       "      <td>24/04/1998</td>\n",
       "      <td>Hassani</td>\n",
       "      <td>2011</td>\n",
       "    </tr>\n",
       "    <tr>\n",
       "      <th>46</th>\n",
       "      <td>47</td>\n",
       "      <td>Rifki M</td>\n",
       "      <td>Laki-laki</td>\n",
       "      <td>Jakarta</td>\n",
       "      <td>07/02/1996</td>\n",
       "      <td>Gigih</td>\n",
       "      <td>2011</td>\n",
       "    </tr>\n",
       "    <tr>\n",
       "      <th>47</th>\n",
       "      <td>48</td>\n",
       "      <td>Roby Qorny</td>\n",
       "      <td>Laki-laki</td>\n",
       "      <td>Jakarta Timur</td>\n",
       "      <td>11/03/1997</td>\n",
       "      <td>Usman</td>\n",
       "      <td>2011</td>\n",
       "    </tr>\n",
       "    <tr>\n",
       "      <th>48</th>\n",
       "      <td>49</td>\n",
       "      <td>Satria Ramadhan</td>\n",
       "      <td>Laki-laki</td>\n",
       "      <td>Menteng</td>\n",
       "      <td>17/08/1997</td>\n",
       "      <td>Nunu Lukman</td>\n",
       "      <td>2011</td>\n",
       "    </tr>\n",
       "    <tr>\n",
       "      <th>...</th>\n",
       "      <td>...</td>\n",
       "      <td>...</td>\n",
       "      <td>...</td>\n",
       "      <td>...</td>\n",
       "      <td>...</td>\n",
       "      <td>...</td>\n",
       "      <td>...</td>\n",
       "    </tr>\n",
       "    <tr>\n",
       "      <th>7</th>\n",
       "      <td>8</td>\n",
       "      <td>Najwa Aulia PutriP</td>\n",
       "      <td>Perempuan</td>\n",
       "      <td>Bekasi</td>\n",
       "      <td>12/12/1998</td>\n",
       "      <td>Gunawan</td>\n",
       "      <td>2006</td>\n",
       "    </tr>\n",
       "    <tr>\n",
       "      <th>6</th>\n",
       "      <td>7</td>\n",
       "      <td>Topan Muldiana</td>\n",
       "      <td>Laki-laki</td>\n",
       "      <td>Sukabumi</td>\n",
       "      <td>01/01/1970</td>\n",
       "      <td>Eman</td>\n",
       "      <td>2006</td>\n",
       "    </tr>\n",
       "    <tr>\n",
       "      <th>5</th>\n",
       "      <td>6</td>\n",
       "      <td>M. Tubyani</td>\n",
       "      <td>Laki-laki</td>\n",
       "      <td>Cilegon</td>\n",
       "      <td>22/06/1996</td>\n",
       "      <td>Badri</td>\n",
       "      <td>2006</td>\n",
       "    </tr>\n",
       "    <tr>\n",
       "      <th>2</th>\n",
       "      <td>3</td>\n",
       "      <td>Siti Khoeriyah</td>\n",
       "      <td>Perempuan</td>\n",
       "      <td>Cilegon</td>\n",
       "      <td>10/12/1997</td>\n",
       "      <td>Mad Salim</td>\n",
       "      <td>2005</td>\n",
       "    </tr>\n",
       "    <tr>\n",
       "      <th>4</th>\n",
       "      <td>5</td>\n",
       "      <td>Sifaurrohmh</td>\n",
       "      <td>Perempuan</td>\n",
       "      <td>Kampung Baru</td>\n",
       "      <td>01/01/1970</td>\n",
       "      <td>Muhaimin</td>\n",
       "      <td>2005</td>\n",
       "    </tr>\n",
       "  </tbody>\n",
       "</table>\n",
       "<p>64 rows × 7 columns</p>\n",
       "</div>"
      ],
      "text/plain": [
       "    no                nama jenis_kelamin   tempat_lahir tanggal_lahir  \\\n",
       "66  67        Fima R. Ista     Perempuan          Bogor    24/01/1999   \n",
       "56  57            M. Ridho     Laki-laki       Majalaya    24/04/1998   \n",
       "46  47             Rifki M     Laki-laki        Jakarta    07/02/1996   \n",
       "47  48          Roby Qorny     Laki-laki  Jakarta Timur    11/03/1997   \n",
       "48  49     Satria Ramadhan     Laki-laki        Menteng    17/08/1997   \n",
       "..  ..                 ...           ...            ...           ...   \n",
       "7    8  Najwa Aulia PutriP     Perempuan         Bekasi    12/12/1998   \n",
       "6    7      Topan Muldiana     Laki-laki       Sukabumi    01/01/1970   \n",
       "5    6          M. Tubyani     Laki-laki        Cilegon    22/06/1996   \n",
       "2    3      Siti Khoeriyah     Perempuan        Cilegon    10/12/1997   \n",
       "4    5         Sifaurrohmh     Perempuan   Kampung Baru    01/01/1970   \n",
       "\n",
       "      orang_tua  tahun_masuk  \n",
       "66       Tatang         2011  \n",
       "56      Hassani         2011  \n",
       "46        Gigih         2011  \n",
       "47        Usman         2011  \n",
       "48  Nunu Lukman         2011  \n",
       "..          ...          ...  \n",
       "7       Gunawan         2006  \n",
       "6          Eman         2006  \n",
       "5         Badri         2006  \n",
       "2     Mad Salim         2005  \n",
       "4      Muhaimin         2005  \n",
       "\n",
       "[64 rows x 7 columns]"
      ]
     },
     "execution_count": 64,
     "metadata": {},
     "output_type": "execute_result"
    }
   ],
   "source": [
    "tahun_masuk=dataset.head(64)\n",
    "tahun_masuk"
   ]
  },
  {
   "cell_type": "code",
   "execution_count": 65,
   "metadata": {},
   "outputs": [
    {
     "data": {
      "text/plain": [
       "<matplotlib.axes._subplots.AxesSubplot at 0x2829126f808>"
      ]
     },
     "execution_count": 65,
     "metadata": {},
     "output_type": "execute_result"
    },
    {
     "data": {
      "image/png": "[encoded data removed]",
      "text/plain": [
       "<Figure size 432x288 with 1 Axes>"
      ]
     },
     "metadata": {
      "needs_background": "light"
     },
     "output_type": "display_data"
    }
   ],
   "source": [
    "tahun_masuk.plot()"
   ]
  },
  {
   "cell_type": "code",
   "execution_count": null,
   "metadata": {},
   "outputs": [],
   "source": []
  }
 ],
 "metadata": {
  "kernelspec": {
   "display_name": "Python 3",
   "language": "python",
   "name": "python3"
  },
  "language_info": {
   "codemirror_mode": {
    "name": "ipython",
    "version": 3
   },
   "file_extension": ".py",
   "mimetype": "text/x-python",
   "name": "python",
   "nbconvert_exporter": "python",
   "pygments_lexer": "ipython3",
   "version": "3.7.6"
  }
 },
 "nbformat": 4,
 "nbformat_minor": 4
}
